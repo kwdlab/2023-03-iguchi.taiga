{
 "cells": [
  {
   "cell_type": "code",
   "execution_count": 9,
   "id": "fb6a06d0",
   "metadata": {},
   "outputs": [],
   "source": [
    "from pynq import Overlay\n",
    "from pynq import MMIO\n",
    "\n",
    "Max_buffer_size = 345600\n",
    "Clefia = Overlay(\"./bitstream/256/design_dec.bit\")\n",
    "\n",
    "phys_addr = Clefia.ip_dict[\"clefia_dec_0\"][\"phys_addr\"]\n",
    "addr_range = Clefia.ip_dict[\"clefia_dec_0\"][\"addr_range\"]\n",
    "mmio = MMIO(phys_addr, addr_range)\n",
    "\n",
    "#Clefia.ip_dict #offsetの確認"
   ]
  },
  {
   "cell_type": "code",
   "execution_count": 10,
   "id": "81bc6dee",
   "metadata": {},
   "outputs": [],
   "source": [
    "def call_Clefia(pt, skey):\n",
    "    mmio.write(16,bytes(pt))            # Memory_pt: 16\n",
    "    mmio.write(32,bytes(skey))          # Memory_skey: 32\n",
    "    mmio.write(0,1)                     # ap_start: 0\n",
    "    while not (mmio.read(0) & 0x02):\n",
    "        pass\n",
    "\n",
    "    return 0\n",
    "\n"
   ]
  },
  {
   "cell_type": "code",
   "execution_count": 11,
   "id": "6d98233d",
   "metadata": {},
   "outputs": [
    {
     "name": "stdout",
     "output_type": "stream",
     "text": [
      "b'\\xa19x\\x14(\\x9d\\xe8\\x0c\\x10\\xdaF\\xd1\\xfaH\\xb3\\x8a'\n",
      "Average:157086.0067062378ns\n"
     ]
    }
   ],
   "source": [
    "import time\n",
    "# byte型はmmioに一度ですべて書き込める\n",
    "# for 128 bit\n",
    "#ct = bytes([0xde,0x2b,0xf2,0xfd,0x9b,0x74,0xaa,0xcd,0xf1,0x29,0x85,0x55,0x45,0x94,0x94,0xfd])\n",
    "# for 192 bit\n",
    "#ct = bytes([0xe2,0x48,0x2f,0x64,0x9f,0x02,0x8d,0xc4,0x80,0xdd,0xa1,0x84,0xfd,0xe1,0x81,0xad])\n",
    "# for 256 bit\n",
    "ct = bytes([0xa1,0x39,0x78,0x14,0x28,0x9d,0xe8,0x0c,0x10,0xda,0x46,0xd1,0xfa,0x48,0xb3,0x8a])\n",
    "\n",
    "skey = bytes([0xff,0xee,0xdd,0xcc,0xbb,0xaa,0x99,0x88,\n",
    "         0x77,0x66,0x55,0x44,0x33,0x22,0x11,0x00,\n",
    "         0xf0,0xe0,0xd0,0xc0,0xb0,0xa0,0x90,0x80,\n",
    "         0x70,0x60,0x50,0x40,0x30,0x20,0x10,0x00])\n",
    "\n",
    "print(ct)  # x09, x0a, x0dはASCIIで置き換えられる（数値に影響はなし）\n",
    "\n",
    "NUM_OF_LOOPS = 1<<17\n",
    "i = 0\n",
    "\n",
    "# -----計算開始-----\n",
    "time_start = time.perf_counter_ns()\n",
    "for i in range(0, NUM_OF_LOOPS, 1):\n",
    "    call_Clefia(ct, skey)\n",
    "    \n",
    "time_end = time.perf_counter_ns()\n",
    "# -----計算終了-----\n",
    "\n",
    "time_took = time_end - time_start\n",
    "time_ave = time_took / NUM_OF_LOOPS\n",
    "\n",
    "print(f\"Average:{time_ave}ns\")\n",
    "\n"
   ]
  },
  {
   "cell_type": "code",
   "execution_count": 8,
   "id": "47475a64",
   "metadata": {},
   "outputs": [
    {
     "name": "stdout",
     "output_type": "stream",
     "text": [
      "8\n",
      "\n",
      "-----処理時間計測開始-----\n",
      "計算前： 4\n",
      "計算中： 1\n",
      "waiting...\n",
      "計算中： 4\n",
      "waiting...\n",
      "計算後： 4\n",
      "\n",
      "-----処理時間計測終了-----\n",
      "計算時間： 0.0009067058563232422 s.\n",
      "ciphertext: [b'1\\x95\\x16\\x1d', b'\\xfc\\xdbK\\x95', b'f,\\xe7\\r', b'\\x04\\xfd\\xee)']\n",
      "plaintext: [b'abcd', b'efgh', b'\\x00\\x00\\x00\\x00', b'\\x00\\x00\\x00\\x00']\n"
     ]
    },
    {
     "data": {
      "text/plain": [
       "'ポートのサイズを拡大したらもっと処理できる？？\\nPythonで16バイトずつ区切って何度か呼び出す？'"
      ]
     },
     "execution_count": 8,
     "metadata": {},
     "output_type": "execute_result"
    }
   ],
   "source": [
    "string = \"abcdefgh\" #Max 16 Bytes & Multiple of 4\n",
    "print(len(string.encode()))\n",
    "string = bytes(string.encode())\n",
    "key_bitlen = 128\n",
    "\n",
    "call_Clefia(string, key_bitlen)\n",
    "\n",
    "\"\"\"stringへの入力が4バイト単位しか受け付けない\n",
    "   空白文字を入れるなどの処理をする？？？\"\"\"\n",
    "\"\"\"ポートのサイズを拡大したらもっと処理できる？？\n",
    "Pythonで16バイトずつ区切って何度か呼び出す？\"\"\""
   ]
  },
  {
   "cell_type": "code",
   "execution_count": null,
   "id": "365f4017",
   "metadata": {},
   "outputs": [],
   "source": []
  },
  {
   "cell_type": "code",
   "execution_count": null,
   "id": "a6d63fb1",
   "metadata": {},
   "outputs": [],
   "source": []
  },
  {
   "cell_type": "code",
   "execution_count": null,
   "id": "003f47e2",
   "metadata": {},
   "outputs": [],
   "source": [
    "def call_Clefia(pt):\n",
    "    temp = 0\n",
    "    dec = []\n",
    "    print(\"\\n-----処理時間計測開始-----\") #消す\n",
    "    time_start = time.perf_counter_ns()\n",
    "    mmio.write(16,bytes(pt))            # Memory_pt: 16\n",
    "    print(\"計算前：\", mmio.read(CTRL)) #消す\n",
    "    mmio.write(0,1)                     # ap_start: 0\n",
    "    while not mmio.read(0x00 & 0x04) == 0x04: \n",
    "        print(\"計算中：\", mmio.read(CTRL)) #消す\n",
    "        print(\"waiting...\") # passに変える\n",
    "        \n",
    "    print(\"計算後：\", mmio.read(CTRL)) #消す\n",
    "    time_end = time.perf_counter_ns()\n",
    "    print(\"\\n-----処理時間計測終了-----\") #消す\n",
    "    print(\"計算時間：\", time_end-time_start, \"s.\")\n",
    "    for i in range(0,4): #一度に１６バイトの読み込みはできない\n",
    "        dec.append(mmio.read(32+(i*4)).to_bytes(4,\"little\"))  #Memory_Clefia_enc: 32\n",
    "          \n",
    "    print(\"plaintext:\",dec)\n",
    "    return 0\n",
    "\n"
   ]
  }
 ],
 "metadata": {
  "kernelspec": {
   "display_name": "Python 3 (ipykernel)",
   "language": "python",
   "name": "python3"
  },
  "language_info": {
   "codemirror_mode": {
    "name": "ipython",
    "version": 3
   },
   "file_extension": ".py",
   "mimetype": "text/x-python",
   "name": "python",
   "nbconvert_exporter": "python",
   "pygments_lexer": "ipython3",
   "version": "3.10.4"
  }
 },
 "nbformat": 4,
 "nbformat_minor": 5
}
