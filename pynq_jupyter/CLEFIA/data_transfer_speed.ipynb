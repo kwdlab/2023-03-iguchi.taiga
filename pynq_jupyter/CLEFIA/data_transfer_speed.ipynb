{
 "cells": [
  {
   "cell_type": "code",
   "execution_count": 26,
   "id": "fb6a06d0",
   "metadata": {},
   "outputs": [],
   "source": [
    "from pynq import Overlay\n",
    "from pynq import MMIO\n",
    "Max_buffer_size = 345600\n",
    "Clefia = Overlay(\"./bitstream/transfer_speed/design_1.bit\")\n",
    "\n",
    "phys_addr = Clefia.ip_dict[\"data_transfer_0\"][\"phys_addr\"]\n",
    "addr_range = Clefia.ip_dict[\"data_transfer_0\"][\"addr_range\"]\n",
    "mmio = MMIO(phys_addr, addr_range)\n",
    "\n",
    "#Clefia.ip_dict #offsetの確認"
   ]
  },
  {
   "cell_type": "code",
   "execution_count": 27,
   "id": "81bc6dee",
   "metadata": {},
   "outputs": [],
   "source": [
    "def call_Clefia(pt, skey):\n",
    "    mmio.write(16,bytes(pt))            # Memory_pt: 16\n",
    "    mmio.write(32,bytes(skey))          # Memory_skey: 32\n",
    "    mmio.write(0,1)                     # ap_start: 0\n",
    "    while not (mmio.read(0) & 0x02):\n",
    "        pass\n",
    "        \n",
    "    return 0\n",
    "\n"
   ]
  },
  {
   "cell_type": "code",
   "execution_count": 32,
   "id": "6d98233d",
   "metadata": {},
   "outputs": [
    {
     "name": "stdout",
     "output_type": "stream",
     "text": [
      "b'\\x00\\x01\\x02\\x03\\x04\\x05\\x06\\x07\\x08\\t\\n\\x0b\\x0c\\r\\x0e\\x0f'\n",
      "Average:149568.70862579346ns\n"
     ]
    }
   ],
   "source": [
    "import time\n",
    "# byte型はmmioに一度ですべて書き込める\n",
    "pt = bytes([0x00,0x01,0x02,0x03,0x04,0x05,\n",
    "            0x06,0x07,0x08,0x09,0x0a,0x0b,\n",
    "            0x0c,0x0d,0x0e,0x0f])\n",
    "\n",
    "skey = bytes([0xff,0xee,0xdd,0xcc,0xbb,0xaa,0x99,0x88,\n",
    "         0x77,0x66,0x55,0x44,0x33,0x22,0x11,0x00,\n",
    "         0xf0,0xe0,0xd0,0xc0,0xb0,0xa0,0x90,0x80,\n",
    "         0x70,0x60,0x50,0x40,0x30,0x20,0x10,0x00])\n",
    "         \n",
    "print(pt)  # x09, x0a, x0dはASCIIで置き換えられる（数値に影響はなし）\n",
    "\n",
    "NUM_OF_LOOPS = 1<<17\n",
    "i = 0\n",
    "\n",
    "# -----計算開始-----\n",
    "time_start = time.perf_counter_ns()\n",
    "for i in range(0,NUM_OF_LOOPS,1):\n",
    "    call_Clefia(pt, skey)\n",
    "\n",
    "time_end = time.perf_counter_ns()\n",
    "# -----計算終了-----\n",
    "\n",
    "time_took = time_end - time_start\n",
    "time_ave = time_took / NUM_OF_LOOPS\n",
    "\n",
    "print(f\"Average:{time_ave}ns\")\n",
    "\n"
   ]
  },
  {
   "cell_type": "code",
   "execution_count": null,
   "id": "365f4017",
   "metadata": {},
   "outputs": [],
   "source": []
  },
  {
   "cell_type": "code",
   "execution_count": null,
   "id": "a6d63fb1",
   "metadata": {},
   "outputs": [],
   "source": []
  }
 ],
 "metadata": {
  "kernelspec": {
   "display_name": "Python 3 (ipykernel)",
   "language": "python",
   "name": "python3"
  },
  "language_info": {
   "codemirror_mode": {
    "name": "ipython",
    "version": 3
   },
   "file_extension": ".py",
   "mimetype": "text/x-python",
   "name": "python",
   "nbconvert_exporter": "python",
   "pygments_lexer": "ipython3",
   "version": "3.10.4"
  }
 },
 "nbformat": 4,
 "nbformat_minor": 5
}
