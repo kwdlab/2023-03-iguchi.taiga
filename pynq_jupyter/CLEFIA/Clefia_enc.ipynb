{
 "cells": [
  {
   "cell_type": "code",
   "execution_count": 7,
   "id": "fb6a06d0",
   "metadata": {},
   "outputs": [],
   "source": [
    "from pynq import Overlay\n",
    "from pynq import MMIO\n",
    "Max_buffer_size = 345600\n",
    "Clefia = Overlay(\"./bitstream/256/design_enc.bit\")\n",
    "\n",
    "phys_addr = Clefia.ip_dict[\"clefia_enc_0\"][\"phys_addr\"]\n",
    "addr_range = Clefia.ip_dict[\"clefia_enc_0\"][\"addr_range\"]\n",
    "mmio = MMIO(phys_addr, addr_range)\n",
    "\n",
    "#Clefia.ip_dict #offsetの確認"
   ]
  },
  {
   "cell_type": "code",
   "execution_count": 8,
   "id": "81bc6dee",
   "metadata": {},
   "outputs": [],
   "source": [
    "def call_Clefia(pt, skey):\n",
    "    mmio.write(16,bytes(pt))            # Memory_pt: 16\n",
    "    mmio.write(32,bytes(skey))          # Memory_skey: 32\n",
    "    mmio.write(0,1)                     # ap_start: 0\n",
    "    while not (mmio.read(0) & 0x02):\n",
    "        pass\n",
    "        \n",
    "    return 0\n",
    "\n"
   ]
  },
  {
   "cell_type": "code",
   "execution_count": 9,
   "id": "6d98233d",
   "metadata": {},
   "outputs": [
    {
     "name": "stdout",
     "output_type": "stream",
     "text": [
      "b'\\x00\\x01\\x02\\x03\\x04\\x05\\x06\\x07\\x08\\t\\n\\x0b\\x0c\\r\\x0e\\x0f'\n",
      "Average:155807.65116882324ns\n"
     ]
    }
   ],
   "source": [
    "import time\n",
    "# byte型はmmioに一度ですべて書き込める\n",
    "pt = bytes([0x00,0x01,0x02,0x03,0x04,0x05,\n",
    "            0x06,0x07,0x08,0x09,0x0a,0x0b,\n",
    "            0x0c,0x0d,0x0e,0x0f])\n",
    "\n",
    "skey = bytes([0xff,0xee,0xdd,0xcc,0xbb,0xaa,0x99,0x88,\n",
    "         0x77,0x66,0x55,0x44,0x33,0x22,0x11,0x00,\n",
    "         0xf0,0xe0,0xd0,0xc0,0xb0,0xa0,0x90,0x80,\n",
    "         0x70,0x60,0x50,0x40,0x30,0x20,0x10,0x00])\n",
    "         \n",
    "print(pt)  # x09, x0a, x0dはASCIIで置き換えられる（数値に影響はなし）\n",
    "\n",
    "NUM_OF_LOOPS = 1<<17\n",
    "i = 0\n",
    "\n",
    "# -----計算開始-----\n",
    "time_start = time.perf_counter_ns()\n",
    "for i in range(0,NUM_OF_LOOPS,1):\n",
    "    call_Clefia(pt, skey)\n",
    "\n",
    "time_end = time.perf_counter_ns()\n",
    "# -----計算終了-----\n",
    "\n",
    "time_took = time_end - time_start\n",
    "time_ave = time_took / NUM_OF_LOOPS\n",
    "\n",
    "\n",
    "print(f\"Average:{time_ave}ns\")\n",
    "\n"
   ]
  },
  {
   "cell_type": "code",
   "execution_count": null,
   "id": "47475a64",
   "metadata": {},
   "outputs": [],
   "source": []
  },
  {
   "cell_type": "code",
   "execution_count": null,
   "id": "365f4017",
   "metadata": {},
   "outputs": [],
   "source": []
  },
  {
   "cell_type": "code",
   "execution_count": null,
   "id": "a6d63fb1",
   "metadata": {},
   "outputs": [],
   "source": [
    "# ------ ここから下はメモとデモ -----"
   ]
  },
  {
   "cell_type": "code",
   "execution_count": 35,
   "id": "003f47e2",
   "metadata": {},
   "outputs": [],
   "source": [
    "def call_Clefia(pt):\n",
    "    temp = 0\n",
    "    enc = []\n",
    "    print(\"\\n-----処理時間計測開始-----\") #消す\n",
    "    time_start = time.perf_counter_ns()\n",
    "    mmio.write(16,bytes(pt))            # Memory_pt: 16\n",
    "    print(\"計算前：\", mmio.read(CTRL)) #消す\n",
    "    mmio.write(0,1)                     # ap_start: 0\n",
    "    while not mmio.read(0x00 & 0x04) == 0x04: \n",
    "        print(\"計算中：\", mmio.read(CTRL)) #消す\n",
    "        print(\"waiting...\") # passに変える\n",
    "        \n",
    "    print(\"計算後：\", mmio.read(CTRL)) #消す\n",
    "    time_end = time.perf_counter_ns()\n",
    "    print(\"\\n-----処理時間計測終了-----\") #消す\n",
    "    print(\"計算時間：\", time_end-time_start, \"s.\")\n",
    "    for i in range(0,4): #一度に１６バイトの読み込みはできない\n",
    "        enc.append(mmio.read(32+(i*4)).to_bytes(4,\"little\"))  #Memory_ct: 32\n",
    "          \n",
    "    print(\"ciphertext:\",enc)\n",
    "    return 0\n",
    "\n"
   ]
  },
  {
   "cell_type": "code",
   "execution_count": null,
   "id": "a6ae16e8",
   "metadata": {},
   "outputs": [],
   "source": [
    "string = \"abcdefgh\" #Max 16 Bytes & Multiple of 4\n",
    "print(len(string.encode()))\n",
    "string = bytes(string.encode())\n",
    "key_bitlen = 128\n",
    "\n",
    "call_Clefia(string, key_bitlen)\n",
    "\n",
    "\"\"\"stringへの入力が4バイト単位しか受け付けない\n",
    "   空白文字を入れるなどの処理をする？？？\"\"\"\n",
    "\"\"\"ポートのサイズを拡大したらもっと処理できる？？\n",
    "Pythonで16バイトずつ区切って何度か呼び出す？\"\"\"\n",
    "\n",
    "\"\"\"VITISでシミュレーションした時と暗号化の中身が異なる。\n",
    "   復号は正しく行えている。\n",
    "   mmio classで書き込む際にnumpy形式に書き換えられているのが原因の可能性大\n",
    "   エンディアン\n",
    "\"\"\"\n",
    "\n",
    "\"\"\"128 -> 128 OK.    128 -> 192 OK.    128 -> 256 OK.\n",
    "   192 -> 128 NG.    192 -> 192 OK.    192 -> 256 OK.\n",
    "   256 -> 128 NG.    256 -> 192 OK.    256 -> 256 OK.\n",
    "   初回起動時もバグる？\"\"\""
   ]
  }
 ],
 "metadata": {
  "kernelspec": {
   "display_name": "Python 3 (ipykernel)",
   "language": "python",
   "name": "python3"
  },
  "language_info": {
   "codemirror_mode": {
    "name": "ipython",
    "version": 3
   },
   "file_extension": ".py",
   "mimetype": "text/x-python",
   "name": "python",
   "nbconvert_exporter": "python",
   "pygments_lexer": "ipython3",
   "version": "3.10.4"
  }
 },
 "nbformat": 4,
 "nbformat_minor": 5
}
